{
 "cells": [
  {
   "cell_type": "markdown",
   "metadata": {},
   "source": [
    "# Identify the impact of an event in a particular area  \n",
    "\n",
    "\n",
    "> 👋 Before moving on with this demo, you must first sign-up and request your Geosys APIs credentials here :\n",
    "> - ⚙️[Try it now](https://www.earthdaily.com/geosys/geosys-api/)\n",
    "\n",
    "> For more information about our Geosys APIs : \n",
    "> - 📚 [Geosys APIs to connect with your digital ag application](https://www.earthdaily.com/geosys/geosys-api/)\n",
    "\n",
    "\n",
    "> **Demo Project:** This demo demonstrates the ability to identify and calculate the impacted area within a given geometric region resulting from a specific event.\n",
    "\n",
    "\n",
    "\n",
    "### @author: Geosys\n",
    "\n",
    "\n",
    "\n",
    " ## 1️⃣ Import all librairies needed and get an autorization to use ImpactedAreasIdentificator"
   ]
  },
  {
   "cell_type": "code",
   "execution_count": null,
   "metadata": {},
   "outputs": [],
   "source": [
    "import sys\n",
    "sys.path.append('../src/')\n",
    "from geosyspy import Geosys\n",
    "from dotenv import load_dotenv\n",
    "from dateutil.relativedelta import relativedelta\n",
    "from matplotlib.colors import LinearSegmentedColormap,ListedColormap\n",
    "from geosyspy.utils.constants import *\n",
    "from vegetation_index_impacted_areas_identificator.impacted_areas_identification import *\n",
    "\n",
    "import logging\n",
    "import pandas as pd\n",
    "import matplotlib.pyplot as plt\n",
    "import xarray as xr\n",
    "import numpy as np\n",
    "import datetime as dt\n",
    "import os\n",
    "\n",
    "logger = logging.getLogger()\n",
    "logger.setLevel(logging.INFO)\n",
    "\n",
    "# read .env file\n",
    "load_dotenv()\n",
    "\n",
    "API_CLIENT_ID = os.getenv('API_CLIENT_ID')\n",
    "API_CLIENT_SECRET = os.getenv('API_CLIENT_SECRET')\n",
    "API_USERNAME = os.getenv('API_USERNAME')\n",
    "API_PASSWORD = os.getenv('API_PASSWORD')\n",
    "\n",
    "client = ImpactedAreasIdentificator(API_CLIENT_ID, API_CLIENT_SECRET, API_USERNAME, API_PASSWORD, Env.PROD, Region.NA)\n"
   ]
  },
  {
   "cell_type": "markdown",
   "metadata": {},
   "source": [
    " ## 2️⃣ Input data\n",
    "\n",
    "These input parameters are utilized in the demo to identify and calculate the impacted area resulting from the specified event and threshold within the given geometric region. The input data for this example consists of the following parameters:\n",
    "\n",
    "##### polygon: \n",
    "A polygon string in WKT format representing the geometric region of interest. This polygon defines the boundaries of the area under analysis.\n",
    "\n",
    "#### event_date: \n",
    "A datetime object representing the date of the event. In this case, the event date is \"2021-06-07\".\n",
    "\n",
    "#### threshold: \n",
    "A floating-point value representing the threshold for evaluating the impact. In this example, the threshold is set to -0.15.\n",
    "\n",
    "\n"
   ]
  },
  {
   "cell_type": "code",
   "execution_count": null,
   "metadata": {},
   "outputs": [],
   "source": [
    "polygon = \"POLYGON((-55.08964959 -12.992576790000001, -55.095571910000004 -12.99349674, -55.09265364 -13.014153310000001, -55.07111016 -13.01013924, -55.07428588 -12.98914779, -55.08261147 -12.99098782, -55.08115233 -13.00152544, -55.08724632 -13.00269622, -55.08819045 -13.0037834, -55.08956371 -13.00369981, -55.08819045 -13.00202724, -55.08964959 -12.992576790000001))\"\n",
    "\n",
    "event_date = dt.datetime.strptime(\"2021-06-07\", \"%Y-%m-%d\")\n",
    "\n",
    "threshold = -0.15"
   ]
  },
  {
   "cell_type": "markdown",
   "metadata": {},
   "source": [
    "## 3️⃣ Call the coverage for the area and retrieve images before and after the event date\n",
    "\n",
    "To obtain coverage information for the area of interest, make a call to retrieve satellite images captured before and after the event date."
   ]
  },
  {
   "cell_type": "code",
   "execution_count": null,
   "metadata": {},
   "outputs": [],
   "source": [
    "coverage_info_df, images_references = client.get_image_coverage_info_based_on_map_reference(polygon, event_date)\n",
    "\n",
    "image_date_list = pd.to_datetime(coverage_info_df['image.date']).dt.date"
   ]
  },
  {
   "cell_type": "markdown",
   "metadata": {},
   "source": [
    "## 4️⃣  Retrieve ndvi images before and after to the specified event date \n",
    "\n",
    "Retrieve the NDVI (Normalized Difference Vegetation Index) images captured before and after the specified event date\n"
   ]
  },
  {
   "cell_type": "code",
   "execution_count": null,
   "metadata": {},
   "outputs": [],
   "source": [
    "nearest_event_date = client.find_nearest_dates(event_date.date(), image_date_list)\n",
    "\n",
    "ndvi_images_nearest_event_date = client.get_ndvi_image_time_series(polygon,\n",
    "                                                                         nearest_event_date[\"before_event_date\"],\n",
    "                                                                         nearest_event_date[\"after_event_date\"])\n",
    "\n",
    "ndvi_before_event_date = ndvi_images_nearest_event_date.sel(time=str(nearest_event_date[\"before_event_date\"]))['ndvi']\n",
    "\n",
    "ndvi_after_event_date = ndvi_images_nearest_event_date.sel(time=str(nearest_event_date[\"after_event_date\"]))['ndvi']"
   ]
  },
  {
   "cell_type": "markdown",
   "metadata": {},
   "source": [
    "## 5️⃣Retrive the impacted area based on a threshold\n",
    "\n",
    "Calculate and retrieve the impacted area based on a specified threshold value.\n"
   ]
  },
  {
   "cell_type": "code",
   "execution_count": null,
   "metadata": {},
   "outputs": [],
   "source": [
    "ndvi_impacted_area = client.calculate_and_filter_ndvi_difference_by_threshold(ndvi_before_event_date,\n",
    "                                                                                  ndvi_after_event_date,\n",
    "                                                                                  threshold)"
   ]
  },
  {
   "cell_type": "markdown",
   "metadata": {},
   "source": [
    "### Retrieve the impacted area (area and %)"
   ]
  },
  {
   "cell_type": "code",
   "execution_count": null,
   "metadata": {},
   "outputs": [],
   "source": [
    "impacted_area,impacted_area_percentage = client.calculate_impacted_area(polygon, ndvi_impacted_area)\n",
    "\n",
    "print('# Impacted area: {:12.3f} m²'.format(impacted_area))\n",
    "print('# Impacted area percentage: {:2.2f} %'.format(impacted_area_percentage))"
   ]
  },
  {
   "cell_type": "markdown",
   "metadata": {},
   "source": [
    "### Retrieve the impacted area (xarray)"
   ]
  },
  {
   "cell_type": "code",
   "execution_count": null,
   "metadata": {},
   "outputs": [],
   "source": [
    "ndvi_impacted_area"
   ]
  },
  {
   "cell_type": "markdown",
   "metadata": {},
   "source": [
    "##  6️⃣ Display the results\n",
    "Visualize the results using matplotlib by displaying the NDVI of the image just before the event date, the image after the event date, and the impacted area."
   ]
  },
  {
   "cell_type": "code",
   "execution_count": null,
   "metadata": {},
   "outputs": [],
   "source": [
    "# Select only x and y dimension to display ndvi\n",
    "ndvi_before_event_date_image= ndvi_before_event_date.squeeze().drop(['time', 'band'])\n",
    "ndvi_after_event_date_image= ndvi_after_event_date.squeeze().drop(['time', 'band'])\n",
    "\n",
    "fig, ax = plt.subplots(1, 2, figsize=(10,4))\n",
    "colors =['red', 'yellow', 'green']\n",
    "cmap =  LinearSegmentedColormap.from_list(['red_green'],colors)\n",
    "ndvi_before_event_date_image.plot(ax=ax[0], cmap = cmap)\n",
    "ax[0].set_title(f\"{np.datetime_as_string(ndvi_before_event_date['time'].values, unit='D')}, {ndvi_before_event_date['image.sensor'].values}\")\n",
    "\n",
    "ndvi_after_event_date_image.plot(ax=ax[1],  cmap = cmap)\n",
    "ax[1].set_title(f\"{np.datetime_as_string(ndvi_after_event_date['time'].values, unit='D')}, {ndvi_after_event_date['image.sensor'].values}\")\n",
    "\n",
    "fig.tight_layout()\n",
    "\n",
    "fig2, ax2 = plt.subplots()\n",
    "plt.imshow(ndvi_after_event_date_image,  cmap = cmap, alpha = 0.05)\n",
    "plt.imshow(ndvi_impacted_area, aspect = 'auto')\n",
    "plt.title(f\"NDVI threshold= {threshold}\")\n",
    "plt.contourf(ndvi_impacted_area, colors = 'red', alpha = 0.7)\n",
    "plt.legend(handles=[plt.Rectangle((0,0),1,1, color = 'red')], labels=['Impacted Area'])"
   ]
  },
  {
   "cell_type": "code",
   "execution_count": null,
   "metadata": {},
   "outputs": [],
   "source": []
  }
 ],
 "metadata": {
  "interpreter": {
   "hash": "0372a3937da5da54a3bfdd53fff2df272fc2d59026be775ab1768d4a942ca61a"
  },
  "kernelspec": {
   "display_name": "example1",
   "language": "python",
   "name": "demo"
  },
  "language_info": {
   "codemirror_mode": {
    "name": "ipython",
    "version": 3
   },
   "file_extension": ".py",
   "mimetype": "text/x-python",
   "name": "python",
   "nbconvert_exporter": "python",
   "pygments_lexer": "ipython3",
   "version": "3.11.3"
  }
 },
 "nbformat": 4,
 "nbformat_minor": 4
}
